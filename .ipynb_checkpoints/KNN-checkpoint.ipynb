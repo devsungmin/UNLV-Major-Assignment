{
 "cells": [
  {
   "cell_type": "code",
   "execution_count": 1,
   "metadata": {},
   "outputs": [],
   "source": [
    "import time\n",
    "import math\n",
    "import numpy as np\n",
    "from mpl_toolkits.mplot3d import Axes3D\n",
    "import matplotlib.pyplot as plt\n",
    "import pandas as pd\n",
    "%matplotlib inline"
   ]
  },
  {
   "cell_type": "code",
   "execution_count": 2,
   "metadata": {},
   "outputs": [],
   "source": [
    "train_data = pd.read_csv('/home/kim/Desktop/MNIST_training.csv')\n",
    "test_data = pd.read_csv('/home/kim/Desktop/MNIST_test.csv')"
   ]
  },
  {
   "cell_type": "code",
   "execution_count": 3,
   "metadata": {},
   "outputs": [],
   "source": [
    "def knn(k, unknown, labels, positions):\n",
    "    nearest_k = np.array([['unknown', 1<<15, [0]*len(positions[0])]] * k, dtype=object)\n",
    "    for i, point in enumerate(positions):\n",
    "        r = distance(unknown, point)\n",
    "        if (r < nearest_k[-1][1]):\n",
    "            nearest_k[-1] = np.array([labels[i], r, point], dtype=object)\n",
    "            nearest_k = nearest_k[nearest_k[:,1].argsort()]\n",
    "    return most_common(nearest_k), nearest_k\n",
    "\n",
    "def most_common(nearest_k):\n",
    "    nearest_k_dict = dict()\n",
    "    for label in nearest_k[:,0]:\n",
    "        if(label in nearest_k_dict):\n",
    "            nearest_k_dict[label] += 1\n",
    "        else:\n",
    "            nearest_k_dict[label] = 1\n",
    "    nearest_neighbor = max(nearest_k_dict, key=nearest_k_dict.get)\n",
    "    return nearest_neighbor"
   ]
  },
  {
   "cell_type": "code",
   "execution_count": 4,
   "metadata": {},
   "outputs": [],
   "source": [
    "def distance(p1, p2) :\n",
    "    return np.sqrt(np.sum(np.power(p2 - p1, 2)))"
   ]
  },
  {
   "cell_type": "code",
   "execution_count": 5,
   "metadata": {},
   "outputs": [],
   "source": [
    "def most_common(nearest_k):\n",
    "    nearest_k_dict = dict()\n",
    "    for label in nearest_k[:,0]:\n",
    "        if(label in nearest_k_dict):\n",
    "            nearest_k_dict[label] += 1\n",
    "        else:\n",
    "            nearest_k_dict[label] = 1\n",
    "    nearest_neighbor = max(nearest_k_dict, key = nearest_k_dict.get)\n",
    "    return nearest_neighbor"
   ]
  },
  {
   "cell_type": "code",
   "execution_count": 6,
   "metadata": {},
   "outputs": [],
   "source": [
    "def test_knn(k, test_labels, test_values, train_labels, train_values):\n",
    "    right = 0\n",
    "    total = 0\n",
    "    for i, t_value in enumerate(test_values):\n",
    "        nn, nearest_k = knn(k, t_value, train_labels, train_values)\n",
    "        if (nn == test_labels[i]):\n",
    "            right += 1\n",
    "        total += 1\n",
    "    return right/total"
   ]
  },
  {
   "cell_type": "code",
   "execution_count": 10,
   "metadata": {},
   "outputs": [
    {
     "name": "stdout",
     "output_type": "stream",
     "text": [
      "Opening Training Data\n",
      "Opening Testing Data\n",
      "Testing kNN\n",
      "kNN accuracy is 0.84\n"
     ]
    }
   ],
   "source": [
    "def main():\n",
    "    k = 2\n",
    "    test_value_index = 2000\n",
    "    \n",
    "    # Train data\n",
    "    MNIST_Train_Labels = train_data.label\n",
    "    MNIST_Train_Values = train_data.values\n",
    "    \n",
    "    # Test data\n",
    "    MNIST_Test_Labels = test_data.label\n",
    "    MNIST_Test_Values = test_data.values\n",
    "\n",
    "    accuracy = test_knn(k, MNIST_Test_Labels, MNIST_Test_Values, MNIST_Train_Labels, MNIST_Train_Values)\n",
    "    print(\"kNN accuracy is {}\".format(accuracy))\n",
    "    \n",
    "\n",
    "if __name__ == '__main__':\n",
    "    main()"
   ]
  },
  {
   "cell_type": "code",
   "execution_count": null,
   "metadata": {},
   "outputs": [],
   "source": []
  },
  {
   "cell_type": "code",
   "execution_count": null,
   "metadata": {},
   "outputs": [],
   "source": []
  }
 ],
 "metadata": {
  "kernelspec": {
   "display_name": "Python 3",
   "language": "python",
   "name": "python3"
  },
  "language_info": {
   "codemirror_mode": {
    "name": "ipython",
    "version": 3
   },
   "file_extension": ".py",
   "mimetype": "text/x-python",
   "name": "python",
   "nbconvert_exporter": "python",
   "pygments_lexer": "ipython3",
   "version": "3.7.5"
  }
 },
 "nbformat": 4,
 "nbformat_minor": 2
}
